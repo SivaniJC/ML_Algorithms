{
 "cells": [
  {
   "cell_type": "code",
   "execution_count": 1,
   "metadata": {
    "id": "J2TX3be0fIYZ",
    "outputId": "59b40d67-ec3c-4e8b-a377-fa660755a9bc"
   },
   "outputs": [
    {
     "name": "stdout",
     "output_type": "stream",
     "text": [
      "Split 249 rows into train = 186 and test = 63 rows\n",
      "\n",
      "Accuracy is  69.84126984126983 %\n"
     ]
    }
   ],
   "source": [
    "import pandas\n",
    "import math\n",
    "\n",
    "\n",
    "def prepare_data():\n",
    "    # read data\n",
    "    dataset = pandas.read_csv('DBetes.csv').values\n",
    "\n",
    "    # split dataset into train and test data\n",
    "    split_ratio = 0.75\n",
    "    split_index = int(len(dataset) * split_ratio)\n",
    "    training_data = dataset[: split_index]\n",
    "    test_data = dataset[split_index:]\n",
    "    return (training_data, test_data)\n",
    "\n",
    "\n",
    "def split_yes_no(data):\n",
    "    yes_data = []\n",
    "    no_data = []\n",
    "\n",
    "    for index in range(len(data)):\n",
    "        if data[index][-1] == 1:\n",
    "            yes_data.append(data[index])\n",
    "        else:\n",
    "            no_data.append(data[index])\n",
    "\n",
    "    return (yes_data, no_data)\n",
    "\n",
    "# Calculates the mean\n",
    "def mean(numbers):\n",
    "    return sum(numbers) / len(numbers)\n",
    "\n",
    "def standard_deviation(numbers):\n",
    "    average = mean(numbers)\n",
    "    variance = sum([pow(number - average, 2) for number in numbers]) / (len(numbers) - 1)\n",
    "    return math.sqrt(variance)\n",
    "\n",
    "def summarize(data):\n",
    "    summaries = [(mean(attribute), standard_deviation(attribute)) for attribute in zip(*data)]\n",
    "    del summaries[-1]\n",
    "    return summaries\n",
    "\n",
    "def calculate_probability(summary, item):\n",
    "    probability = 1\n",
    "    for index in range(len(summary)):\n",
    "        x = item[index]\n",
    "        mean, standard_deviation = summary[index]\n",
    "        exponent = math.exp(-pow(x - mean, 2) / (2 * standard_deviation ** 2))\n",
    "        final = exponent / (math.sqrt(2 * math.pi) * standard_deviation)\n",
    "        probability *= final\n",
    "    return probability\n",
    "\n",
    "\n",
    "training_data, test_data = prepare_data()\n",
    "yes_data, no_data = split_yes_no(training_data)\n",
    "\n",
    "# Summarize Yes and No\n",
    "yes_data = summarize(yes_data)\n",
    "no_data = summarize(no_data)\n",
    "\n",
    "# List holding the predictions\n",
    "predictions = []\n",
    "\n",
    "for record in test_data:\n",
    "    yes_probability = calculate_probability(yes_data, record)\n",
    "    no_probability = calculate_probability(no_data, record)\n",
    "\n",
    "    predictions.append(1 if yes_probability > no_probability else 0)\n",
    "\n",
    "# checking number of correct predictions\n",
    "correct_prediction = 0\n",
    "\n",
    "for i in range(len(test_data)):\n",
    "    if(test_data[i][-1] == predictions[i]):\n",
    "        correct_prediction += 1\n",
    "\n",
    "print(\"Split {0} rows into train = {1} and test = {2} rows\".format(len(training_data) + len(test_data),len(training_data),len(test_data)))\n",
    "print(\"\\nAccuracy is \", ((correct_prediction / len(test_data)) * 100), \"%\")\n"
   ]
  },
  {
   "cell_type": "code",
   "execution_count": 2,
   "metadata": {
    "id": "3Miszd37fIYf",
    "outputId": "b0aa8b74-4f46-49a4-c752-68d7b1302b85"
   },
   "outputs": [
    {
     "data": {
      "text/plain": "      6  148  72  35    0  1\n0     1   85  66  29    0  0\n1     8  183  64   0    0  1\n2     1   89  66  23   94  0\n3     0  137  40  35  168  1\n4     5  116  74   0    0  0\n..   ..  ...  ..  ..  ... ..\n244   9  184  85  15    0  1\n245  10  122  68   0    0  0\n246   0  165  90  33  680  0\n247   9  124  70  33  402  0\n248   1  111  86  19    0  0\n\n[249 rows x 6 columns]",
      "text/html": "<div>\n<style scoped>\n    .dataframe tbody tr th:only-of-type {\n        vertical-align: middle;\n    }\n\n    .dataframe tbody tr th {\n        vertical-align: top;\n    }\n\n    .dataframe thead th {\n        text-align: right;\n    }\n</style>\n<table border=\"1\" class=\"dataframe\">\n  <thead>\n    <tr style=\"text-align: right;\">\n      <th></th>\n      <th>6</th>\n      <th>148</th>\n      <th>72</th>\n      <th>35</th>\n      <th>0</th>\n      <th>1</th>\n    </tr>\n  </thead>\n  <tbody>\n    <tr>\n      <th>0</th>\n      <td>1</td>\n      <td>85</td>\n      <td>66</td>\n      <td>29</td>\n      <td>0</td>\n      <td>0</td>\n    </tr>\n    <tr>\n      <th>1</th>\n      <td>8</td>\n      <td>183</td>\n      <td>64</td>\n      <td>0</td>\n      <td>0</td>\n      <td>1</td>\n    </tr>\n    <tr>\n      <th>2</th>\n      <td>1</td>\n      <td>89</td>\n      <td>66</td>\n      <td>23</td>\n      <td>94</td>\n      <td>0</td>\n    </tr>\n    <tr>\n      <th>3</th>\n      <td>0</td>\n      <td>137</td>\n      <td>40</td>\n      <td>35</td>\n      <td>168</td>\n      <td>1</td>\n    </tr>\n    <tr>\n      <th>4</th>\n      <td>5</td>\n      <td>116</td>\n      <td>74</td>\n      <td>0</td>\n      <td>0</td>\n      <td>0</td>\n    </tr>\n    <tr>\n      <th>...</th>\n      <td>...</td>\n      <td>...</td>\n      <td>...</td>\n      <td>...</td>\n      <td>...</td>\n      <td>...</td>\n    </tr>\n    <tr>\n      <th>244</th>\n      <td>9</td>\n      <td>184</td>\n      <td>85</td>\n      <td>15</td>\n      <td>0</td>\n      <td>1</td>\n    </tr>\n    <tr>\n      <th>245</th>\n      <td>10</td>\n      <td>122</td>\n      <td>68</td>\n      <td>0</td>\n      <td>0</td>\n      <td>0</td>\n    </tr>\n    <tr>\n      <th>246</th>\n      <td>0</td>\n      <td>165</td>\n      <td>90</td>\n      <td>33</td>\n      <td>680</td>\n      <td>0</td>\n    </tr>\n    <tr>\n      <th>247</th>\n      <td>9</td>\n      <td>124</td>\n      <td>70</td>\n      <td>33</td>\n      <td>402</td>\n      <td>0</td>\n    </tr>\n    <tr>\n      <th>248</th>\n      <td>1</td>\n      <td>111</td>\n      <td>86</td>\n      <td>19</td>\n      <td>0</td>\n      <td>0</td>\n    </tr>\n  </tbody>\n</table>\n<p>249 rows × 6 columns</p>\n</div>"
     },
     "execution_count": 2,
     "metadata": {},
     "output_type": "execute_result"
    }
   ],
   "source": [
    "import pandas as pd\n",
    "data = pd.read_csv(\"DBetes.csv\")\n",
    "data"
   ]
  },
  {
   "cell_type": "code",
   "execution_count": null,
   "outputs": [],
   "source": [],
   "metadata": {
    "collapsed": false
   }
  }
 ],
 "metadata": {
  "kernelspec": {
   "display_name": "Python 3",
   "language": "python",
   "name": "python3"
  },
  "language_info": {
   "codemirror_mode": {
    "name": "ipython",
    "version": 3
   },
   "file_extension": ".py",
   "mimetype": "text/x-python",
   "name": "python",
   "nbconvert_exporter": "python",
   "pygments_lexer": "ipython3",
   "version": "3.7.6"
  },
  "colab": {
   "provenance": []
  }
 },
 "nbformat": 4,
 "nbformat_minor": 0
}
