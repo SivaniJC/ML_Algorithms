{
 "cells": [
  {
   "cell_type": "code",
   "execution_count": 1,
   "metadata": {
    "id": "fJjVe5RsecFS",
    "outputId": "9388c300-82b3-4963-ef95-ed20ba27747c"
   },
   "outputs": [
    {
     "name": "stdout",
     "output_type": "stream",
     "text": [
      "Input: \n",
      " [[0.66666667 1.        ]\n",
      " [0.33333333 0.55555556]\n",
      " [1.         0.66666667]]\n",
      "Actual Output: \n",
      "[[0.92]\n",
      " [0.86]\n",
      " [0.89]]\n",
      "Predicted Output: \n",
      " [[0.89421221]\n",
      " [0.88327911]\n",
      " [0.89275262]]\n"
     ]
    }
   ],
   "source": [
    "import numpy as np\n",
    "\n",
    "X = np.array(([2,9],[1,5],[3,6]),dtype=float)\n",
    "y = np.array(([92],[86],[89]),dtype=float)\n",
    "\n",
    "X = X / np.amax(X,axis=0)\n",
    "y = y / 100\n",
    "\n",
    "def sigmoid(x):\n",
    "    return 1/(1+np.exp(-x))\n",
    "\n",
    "def sigmoid_grad(x):\n",
    "    return x*(1-x)\n",
    "\n",
    "epoch=7000\n",
    "lr=0.1\n",
    "inputlayer_neurons = 2\n",
    "hiddenlayer_neurons = 3\n",
    "outputlayer_neurons = 1\n",
    "\n",
    "wh=np.random.uniform(size=(inputlayer_neurons,hiddenlayer_neurons))\n",
    "bh=np.random.uniform(size=(1,hiddenlayer_neurons))\n",
    "wout=np.random.uniform(size=(hiddenlayer_neurons,outputlayer_neurons))\n",
    "bout=np.random.uniform(size=(1,outputlayer_neurons))\n",
    "\n",
    "for i in range(epoch):\n",
    "    #Forward Activation\n",
    "    h_act = sigmoid(np.dot(X,wh) + bh)\n",
    "    output = sigmoid(np.dot(h_act,wout) + bout)\n",
    "    #Backward Calculations of output layer\n",
    "    Error_output = y - output\n",
    "    output_grad = sigmoid_grad(output)\n",
    "    delta_output = Error_output * output_grad\n",
    "    #Backward Calculation of hidden layer\n",
    "    Error_hidden = np.dot(delta_output,wout.T)\n",
    "    hidden_grad = sigmoid_grad(h_act)\n",
    "    delta_hidden = Error_hidden * hidden_grad\n",
    "    #Udating Weights\n",
    "    wh = wh + np.dot(X.T,delta_hidden) * lr\n",
    "    wout = wout + np.dot(h_act.T,delta_output) * lr\n",
    "\n",
    "print(\"Input: \\n \"+str(X))\n",
    "print(\"Actual Output: \\n\"+str(y))\n",
    "print(\"Predicted Output: \\n\",output)"
   ]
  }
 ],
 "metadata": {
  "kernelspec": {
   "display_name": "Python 3",
   "language": "python",
   "name": "python3"
  },
  "language_info": {
   "codemirror_mode": {
    "name": "ipython",
    "version": 3
   },
   "file_extension": ".py",
   "mimetype": "text/x-python",
   "name": "python",
   "nbconvert_exporter": "python",
   "pygments_lexer": "ipython3",
   "version": "3.7.6"
  },
  "colab": {
   "provenance": []
  }
 },
 "nbformat": 4,
 "nbformat_minor": 0
}
